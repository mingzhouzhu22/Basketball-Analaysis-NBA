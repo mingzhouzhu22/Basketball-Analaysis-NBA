{
 "cells": [
  {
   "cell_type": "markdown",
   "metadata": {
    "colab_type": "text",
    "id": "kaS7DEdn4JTK"
   },
   "source": [
    "# Basketball Analysis: NBA -- Part 3\n",
    "## Frank Li, Randy Zhu, Jeremy Knox, Daniel White\n",
    "### t tests"
   ]
  },
  {
   "cell_type": "markdown",
   "metadata": {},
   "source": [
    "## GET PLAYER DATA"
   ]
  },
  {
   "cell_type": "code",
   "execution_count": 2,
   "metadata": {},
   "outputs": [
    {
     "data": {
      "text/html": [
       "<div>\n",
       "<style scoped>\n",
       "    .dataframe tbody tr th:only-of-type {\n",
       "        vertical-align: middle;\n",
       "    }\n",
       "\n",
       "    .dataframe tbody tr th {\n",
       "        vertical-align: top;\n",
       "    }\n",
       "\n",
       "    .dataframe thead th {\n",
       "        text-align: right;\n",
       "    }\n",
       "</style>\n",
       "<table border=\"1\" class=\"dataframe\">\n",
       "  <thead>\n",
       "    <tr style=\"text-align: right;\">\n",
       "      <th></th>\n",
       "      <th>DISPLAY_FIRST_LAST</th>\n",
       "    </tr>\n",
       "    <tr>\n",
       "      <th>PERSON_ID</th>\n",
       "      <th></th>\n",
       "    </tr>\n",
       "  </thead>\n",
       "  <tbody>\n",
       "    <tr>\n",
       "      <th>1629121</th>\n",
       "      <td>Jaylen Adams</td>\n",
       "    </tr>\n",
       "    <tr>\n",
       "      <th>203500</th>\n",
       "      <td>Steven Adams</td>\n",
       "    </tr>\n",
       "    <tr>\n",
       "      <th>1628389</th>\n",
       "      <td>Bam Adebayo</td>\n",
       "    </tr>\n",
       "    <tr>\n",
       "      <th>1629061</th>\n",
       "      <td>Deng Adel</td>\n",
       "    </tr>\n",
       "    <tr>\n",
       "      <th>200746</th>\n",
       "      <td>LaMarcus Aldridge</td>\n",
       "    </tr>\n",
       "  </tbody>\n",
       "</table>\n",
       "</div>"
      ],
      "text/plain": [
       "          DISPLAY_FIRST_LAST\n",
       "PERSON_ID                   \n",
       "1629121         Jaylen Adams\n",
       "203500          Steven Adams\n",
       "1628389          Bam Adebayo\n",
       "1629061            Deng Adel\n",
       "200746     LaMarcus Aldridge"
      ]
     },
     "execution_count": 2,
     "metadata": {},
     "output_type": "execute_result"
    }
   ],
   "source": [
    "import numpy as np\n",
    "import pandas as pd\n",
    "import seaborn as sns\n",
    "import matplotlib.pyplot as plt\n",
    "# downloads allplyrs1028.p if needed from: https://ucsb.box.com/shared/static/oicfhmyb5docjnu7nfmhaf3lvafc1am6.p\n",
    "allplyrs = pd.DataFrame(pd.read_pickle('allplyrs2018.p'))\n",
    "allplyrs.head()"
   ]
  },
  {
   "cell_type": "code",
   "execution_count": 3,
   "metadata": {},
   "outputs": [
    {
     "data": {
      "text/html": [
       "<div>\n",
       "<style scoped>\n",
       "    .dataframe tbody tr th:only-of-type {\n",
       "        vertical-align: middle;\n",
       "    }\n",
       "\n",
       "    .dataframe tbody tr th {\n",
       "        vertical-align: top;\n",
       "    }\n",
       "\n",
       "    .dataframe thead th {\n",
       "        text-align: right;\n",
       "    }\n",
       "</style>\n",
       "<table border=\"1\" class=\"dataframe\">\n",
       "  <thead>\n",
       "    <tr style=\"text-align: right;\">\n",
       "      <th></th>\n",
       "      <th>DISPLAY_FIRST_LAST</th>\n",
       "    </tr>\n",
       "    <tr>\n",
       "      <th>PERSON_ID</th>\n",
       "      <th></th>\n",
       "    </tr>\n",
       "  </thead>\n",
       "  <tbody>\n",
       "    <tr>\n",
       "      <th>201939</th>\n",
       "      <td>Stephen Curry</td>\n",
       "    </tr>\n",
       "  </tbody>\n",
       "</table>\n",
       "</div>"
      ],
      "text/plain": [
       "          DISPLAY_FIRST_LAST\n",
       "PERSON_ID                   \n",
       "201939         Stephen Curry"
      ]
     },
     "execution_count": 3,
     "metadata": {},
     "output_type": "execute_result"
    }
   ],
   "source": [
    "curry_id = allplyrs[allplyrs['DISPLAY_FIRST_LAST']=='Stephen Curry']\n",
    "curry_id"
   ]
  },
  {
   "cell_type": "code",
   "execution_count": 4,
   "metadata": {},
   "outputs": [],
   "source": [
    "params = {'PlayerID':'', # We'll fill this in after identifying the right player\n",
    "          'PlayerPosition':'',\n",
    "          'Season':'2018-19',\n",
    "          'ContextMeasure':'FGA',\n",
    "          'DateFrom':'',\n",
    "          'DateTo':'',\n",
    "          'GameID':'',\n",
    "          'GameSegment':'',\n",
    "          'LastNGames':'0',\n",
    "          'LeagueID':'00',\n",
    "          'Location':'',\n",
    "          'Month':'0',\n",
    "          'OpponentTeamID':'0',\n",
    "          'Outcome':'',\n",
    "          'Period':'0',\n",
    "          'Position':'',\n",
    "          'RookieYear':'',\n",
    "          'SeasonSegment':'',\n",
    "          'SeasonType':'Regular Season',\n",
    "          'TeamID':'0',\n",
    "          'VsConference':'',\n",
    "          'VsDivision':''}"
   ]
  },
  {
   "cell_type": "code",
   "execution_count": 5,
   "metadata": {},
   "outputs": [],
   "source": [
    "params['PlayerID']=201939"
   ]
  },
  {
   "cell_type": "code",
   "execution_count": 6,
   "metadata": {},
   "outputs": [],
   "source": [
    "import json\n",
    "with open('curry.json', 'r') as f:\n",
    "    curry_json = json.load(f)\n",
    "    \n",
    "curry_json.keys()\n",
    "\n",
    "h = curry_json['resultSets'][0]['headers']\n",
    "d = curry_json['resultSets'][0]['rowSet']\n",
    "\n",
    "curry_data = pd.DataFrame(data=d,columns=h)"
   ]
  },
  {
   "cell_type": "code",
   "execution_count": 7,
   "metadata": {},
   "outputs": [
    {
     "data": {
      "text/html": [
       "<div>\n",
       "<style scoped>\n",
       "    .dataframe tbody tr th:only-of-type {\n",
       "        vertical-align: middle;\n",
       "    }\n",
       "\n",
       "    .dataframe tbody tr th {\n",
       "        vertical-align: top;\n",
       "    }\n",
       "\n",
       "    .dataframe thead th {\n",
       "        text-align: right;\n",
       "    }\n",
       "</style>\n",
       "<table border=\"1\" class=\"dataframe\">\n",
       "  <thead>\n",
       "    <tr style=\"text-align: right;\">\n",
       "      <th></th>\n",
       "      <th>GRID_TYPE</th>\n",
       "      <th>GAME_ID</th>\n",
       "      <th>GAME_EVENT_ID</th>\n",
       "      <th>PLAYER_ID</th>\n",
       "      <th>PLAYER_NAME</th>\n",
       "      <th>TEAM_ID</th>\n",
       "      <th>TEAM_NAME</th>\n",
       "      <th>PERIOD</th>\n",
       "      <th>MINUTES_REMAINING</th>\n",
       "      <th>SECONDS_REMAINING</th>\n",
       "      <th>...</th>\n",
       "      <th>SHOT_ZONE_AREA</th>\n",
       "      <th>SHOT_ZONE_RANGE</th>\n",
       "      <th>SHOT_DISTANCE</th>\n",
       "      <th>LOC_X</th>\n",
       "      <th>LOC_Y</th>\n",
       "      <th>SHOT_ATTEMPTED_FLAG</th>\n",
       "      <th>SHOT_MADE_FLAG</th>\n",
       "      <th>GAME_DATE</th>\n",
       "      <th>HTM</th>\n",
       "      <th>VTM</th>\n",
       "    </tr>\n",
       "  </thead>\n",
       "  <tbody>\n",
       "    <tr>\n",
       "      <th>0</th>\n",
       "      <td>Shot Chart Detail</td>\n",
       "      <td>0021800002</td>\n",
       "      <td>10</td>\n",
       "      <td>201939</td>\n",
       "      <td>Stephen Curry</td>\n",
       "      <td>1610612744</td>\n",
       "      <td>Golden State Warriors</td>\n",
       "      <td>1</td>\n",
       "      <td>11</td>\n",
       "      <td>31</td>\n",
       "      <td>...</td>\n",
       "      <td>Right Side Center(RC)</td>\n",
       "      <td>24+ ft.</td>\n",
       "      <td>24</td>\n",
       "      <td>226</td>\n",
       "      <td>90</td>\n",
       "      <td>1</td>\n",
       "      <td>1</td>\n",
       "      <td>20181016</td>\n",
       "      <td>GSW</td>\n",
       "      <td>OKC</td>\n",
       "    </tr>\n",
       "    <tr>\n",
       "      <th>1</th>\n",
       "      <td>Shot Chart Detail</td>\n",
       "      <td>0021800002</td>\n",
       "      <td>58</td>\n",
       "      <td>201939</td>\n",
       "      <td>Stephen Curry</td>\n",
       "      <td>1610612744</td>\n",
       "      <td>Golden State Warriors</td>\n",
       "      <td>1</td>\n",
       "      <td>7</td>\n",
       "      <td>57</td>\n",
       "      <td>...</td>\n",
       "      <td>Center(C)</td>\n",
       "      <td>Less Than 8 ft.</td>\n",
       "      <td>6</td>\n",
       "      <td>-2</td>\n",
       "      <td>63</td>\n",
       "      <td>1</td>\n",
       "      <td>1</td>\n",
       "      <td>20181016</td>\n",
       "      <td>GSW</td>\n",
       "      <td>OKC</td>\n",
       "    </tr>\n",
       "    <tr>\n",
       "      <th>2</th>\n",
       "      <td>Shot Chart Detail</td>\n",
       "      <td>0021800002</td>\n",
       "      <td>131</td>\n",
       "      <td>201939</td>\n",
       "      <td>Stephen Curry</td>\n",
       "      <td>1610612744</td>\n",
       "      <td>Golden State Warriors</td>\n",
       "      <td>1</td>\n",
       "      <td>3</td>\n",
       "      <td>46</td>\n",
       "      <td>...</td>\n",
       "      <td>Center(C)</td>\n",
       "      <td>Less Than 8 ft.</td>\n",
       "      <td>2</td>\n",
       "      <td>5</td>\n",
       "      <td>29</td>\n",
       "      <td>1</td>\n",
       "      <td>1</td>\n",
       "      <td>20181016</td>\n",
       "      <td>GSW</td>\n",
       "      <td>OKC</td>\n",
       "    </tr>\n",
       "    <tr>\n",
       "      <th>3</th>\n",
       "      <td>Shot Chart Detail</td>\n",
       "      <td>0021800002</td>\n",
       "      <td>141</td>\n",
       "      <td>201939</td>\n",
       "      <td>Stephen Curry</td>\n",
       "      <td>1610612744</td>\n",
       "      <td>Golden State Warriors</td>\n",
       "      <td>1</td>\n",
       "      <td>2</td>\n",
       "      <td>58</td>\n",
       "      <td>...</td>\n",
       "      <td>Center(C)</td>\n",
       "      <td>Less Than 8 ft.</td>\n",
       "      <td>1</td>\n",
       "      <td>-6</td>\n",
       "      <td>18</td>\n",
       "      <td>1</td>\n",
       "      <td>0</td>\n",
       "      <td>20181016</td>\n",
       "      <td>GSW</td>\n",
       "      <td>OKC</td>\n",
       "    </tr>\n",
       "    <tr>\n",
       "      <th>4</th>\n",
       "      <td>Shot Chart Detail</td>\n",
       "      <td>0021800002</td>\n",
       "      <td>145</td>\n",
       "      <td>201939</td>\n",
       "      <td>Stephen Curry</td>\n",
       "      <td>1610612744</td>\n",
       "      <td>Golden State Warriors</td>\n",
       "      <td>1</td>\n",
       "      <td>2</td>\n",
       "      <td>49</td>\n",
       "      <td>...</td>\n",
       "      <td>Left Side(L)</td>\n",
       "      <td>24+ ft.</td>\n",
       "      <td>22</td>\n",
       "      <td>-228</td>\n",
       "      <td>8</td>\n",
       "      <td>1</td>\n",
       "      <td>1</td>\n",
       "      <td>20181016</td>\n",
       "      <td>GSW</td>\n",
       "      <td>OKC</td>\n",
       "    </tr>\n",
       "  </tbody>\n",
       "</table>\n",
       "<p>5 rows × 24 columns</p>\n",
       "</div>"
      ],
      "text/plain": [
       "           GRID_TYPE     GAME_ID  GAME_EVENT_ID  PLAYER_ID    PLAYER_NAME  \\\n",
       "0  Shot Chart Detail  0021800002             10     201939  Stephen Curry   \n",
       "1  Shot Chart Detail  0021800002             58     201939  Stephen Curry   \n",
       "2  Shot Chart Detail  0021800002            131     201939  Stephen Curry   \n",
       "3  Shot Chart Detail  0021800002            141     201939  Stephen Curry   \n",
       "4  Shot Chart Detail  0021800002            145     201939  Stephen Curry   \n",
       "\n",
       "      TEAM_ID              TEAM_NAME  PERIOD  MINUTES_REMAINING  \\\n",
       "0  1610612744  Golden State Warriors       1                 11   \n",
       "1  1610612744  Golden State Warriors       1                  7   \n",
       "2  1610612744  Golden State Warriors       1                  3   \n",
       "3  1610612744  Golden State Warriors       1                  2   \n",
       "4  1610612744  Golden State Warriors       1                  2   \n",
       "\n",
       "   SECONDS_REMAINING  ...         SHOT_ZONE_AREA  SHOT_ZONE_RANGE  \\\n",
       "0                 31  ...  Right Side Center(RC)          24+ ft.   \n",
       "1                 57  ...              Center(C)  Less Than 8 ft.   \n",
       "2                 46  ...              Center(C)  Less Than 8 ft.   \n",
       "3                 58  ...              Center(C)  Less Than 8 ft.   \n",
       "4                 49  ...           Left Side(L)          24+ ft.   \n",
       "\n",
       "  SHOT_DISTANCE LOC_X LOC_Y SHOT_ATTEMPTED_FLAG  SHOT_MADE_FLAG  GAME_DATE  \\\n",
       "0            24   226    90                   1               1   20181016   \n",
       "1             6    -2    63                   1               1   20181016   \n",
       "2             2     5    29                   1               1   20181016   \n",
       "3             1    -6    18                   1               0   20181016   \n",
       "4            22  -228     8                   1               1   20181016   \n",
       "\n",
       "   HTM  VTM  \n",
       "0  GSW  OKC  \n",
       "1  GSW  OKC  \n",
       "2  GSW  OKC  \n",
       "3  GSW  OKC  \n",
       "4  GSW  OKC  \n",
       "\n",
       "[5 rows x 24 columns]"
      ]
     },
     "execution_count": 7,
     "metadata": {},
     "output_type": "execute_result"
    }
   ],
   "source": [
    "curry_data.head()"
   ]
  },
  {
   "cell_type": "code",
   "execution_count": 8,
   "metadata": {},
   "outputs": [
    {
     "data": {
      "text/html": [
       "<div>\n",
       "<style scoped>\n",
       "    .dataframe tbody tr th:only-of-type {\n",
       "        vertical-align: middle;\n",
       "    }\n",
       "\n",
       "    .dataframe tbody tr th {\n",
       "        vertical-align: top;\n",
       "    }\n",
       "\n",
       "    .dataframe thead th {\n",
       "        text-align: right;\n",
       "    }\n",
       "</style>\n",
       "<table border=\"1\" class=\"dataframe\">\n",
       "  <thead>\n",
       "    <tr style=\"text-align: right;\">\n",
       "      <th></th>\n",
       "      <th>DISPLAY_FIRST_LAST</th>\n",
       "    </tr>\n",
       "    <tr>\n",
       "      <th>PERSON_ID</th>\n",
       "      <th></th>\n",
       "    </tr>\n",
       "  </thead>\n",
       "  <tbody>\n",
       "    <tr>\n",
       "      <th>201935</th>\n",
       "      <td>James Harden</td>\n",
       "    </tr>\n",
       "  </tbody>\n",
       "</table>\n",
       "</div>"
      ],
      "text/plain": [
       "          DISPLAY_FIRST_LAST\n",
       "PERSON_ID                   \n",
       "201935          James Harden"
      ]
     },
     "execution_count": 8,
     "metadata": {},
     "output_type": "execute_result"
    }
   ],
   "source": [
    "harden_id = allplyrs[allplyrs['DISPLAY_FIRST_LAST']=='James Harden']\n",
    "harden_id"
   ]
  },
  {
   "cell_type": "code",
   "execution_count": 9,
   "metadata": {},
   "outputs": [],
   "source": [
    "params = {'PlayerID':'', # We'll fill this in after identifying the right player\n",
    "          'PlayerPosition':'',\n",
    "          'Season':'2018-19',\n",
    "          'ContextMeasure':'FGA',\n",
    "          'DateFrom':'',\n",
    "          'DateTo':'',\n",
    "          'GameID':'',\n",
    "          'GameSegment':'',\n",
    "          'LastNGames':'0',\n",
    "          'LeagueID':'00',\n",
    "          'Location':'',\n",
    "          'Month':'0',\n",
    "          'OpponentTeamID':'0',\n",
    "          'Outcome':'',\n",
    "          'Period':'0',\n",
    "          'Position':'',\n",
    "          'RookieYear':'',\n",
    "          'SeasonSegment':'',\n",
    "          'SeasonType':'Regular Season',\n",
    "          'TeamID':'0',\n",
    "          'VsConference':'',\n",
    "          'VsDivision':''}"
   ]
  },
  {
   "cell_type": "code",
   "execution_count": 10,
   "metadata": {},
   "outputs": [],
   "source": [
    "params['PlayerID']=201935"
   ]
  },
  {
   "cell_type": "code",
   "execution_count": 11,
   "metadata": {},
   "outputs": [],
   "source": [
    "with open('harden.json', 'r') as f:\n",
    "    harden_json = json.load(f)\n",
    "    \n",
    "harden_json.keys()\n",
    "\n",
    "h = harden_json['resultSets'][0]['headers']\n",
    "d = harden_json['resultSets'][0]['rowSet']\n",
    "\n",
    "harden_data = pd.DataFrame(data=d,columns=h)"
   ]
  },
  {
   "cell_type": "code",
   "execution_count": 12,
   "metadata": {},
   "outputs": [
    {
     "data": {
      "text/html": [
       "<div>\n",
       "<style scoped>\n",
       "    .dataframe tbody tr th:only-of-type {\n",
       "        vertical-align: middle;\n",
       "    }\n",
       "\n",
       "    .dataframe tbody tr th {\n",
       "        vertical-align: top;\n",
       "    }\n",
       "\n",
       "    .dataframe thead th {\n",
       "        text-align: right;\n",
       "    }\n",
       "</style>\n",
       "<table border=\"1\" class=\"dataframe\">\n",
       "  <thead>\n",
       "    <tr style=\"text-align: right;\">\n",
       "      <th></th>\n",
       "      <th>GRID_TYPE</th>\n",
       "      <th>GAME_ID</th>\n",
       "      <th>GAME_EVENT_ID</th>\n",
       "      <th>PLAYER_ID</th>\n",
       "      <th>PLAYER_NAME</th>\n",
       "      <th>TEAM_ID</th>\n",
       "      <th>TEAM_NAME</th>\n",
       "      <th>PERIOD</th>\n",
       "      <th>MINUTES_REMAINING</th>\n",
       "      <th>SECONDS_REMAINING</th>\n",
       "      <th>...</th>\n",
       "      <th>SHOT_ZONE_AREA</th>\n",
       "      <th>SHOT_ZONE_RANGE</th>\n",
       "      <th>SHOT_DISTANCE</th>\n",
       "      <th>LOC_X</th>\n",
       "      <th>LOC_Y</th>\n",
       "      <th>SHOT_ATTEMPTED_FLAG</th>\n",
       "      <th>SHOT_MADE_FLAG</th>\n",
       "      <th>GAME_DATE</th>\n",
       "      <th>HTM</th>\n",
       "      <th>VTM</th>\n",
       "    </tr>\n",
       "  </thead>\n",
       "  <tbody>\n",
       "    <tr>\n",
       "      <th>0</th>\n",
       "      <td>Shot Chart Detail</td>\n",
       "      <td>0021800009</td>\n",
       "      <td>11</td>\n",
       "      <td>201935</td>\n",
       "      <td>James Harden</td>\n",
       "      <td>1610612745</td>\n",
       "      <td>Houston Rockets</td>\n",
       "      <td>1</td>\n",
       "      <td>11</td>\n",
       "      <td>17</td>\n",
       "      <td>...</td>\n",
       "      <td>Center(C)</td>\n",
       "      <td>Less Than 8 ft.</td>\n",
       "      <td>1</td>\n",
       "      <td>3</td>\n",
       "      <td>12</td>\n",
       "      <td>1</td>\n",
       "      <td>0</td>\n",
       "      <td>20181017</td>\n",
       "      <td>HOU</td>\n",
       "      <td>NOP</td>\n",
       "    </tr>\n",
       "    <tr>\n",
       "      <th>1</th>\n",
       "      <td>Shot Chart Detail</td>\n",
       "      <td>0021800009</td>\n",
       "      <td>28</td>\n",
       "      <td>201935</td>\n",
       "      <td>James Harden</td>\n",
       "      <td>1610612745</td>\n",
       "      <td>Houston Rockets</td>\n",
       "      <td>1</td>\n",
       "      <td>9</td>\n",
       "      <td>33</td>\n",
       "      <td>...</td>\n",
       "      <td>Center(C)</td>\n",
       "      <td>24+ ft.</td>\n",
       "      <td>27</td>\n",
       "      <td>-61</td>\n",
       "      <td>264</td>\n",
       "      <td>1</td>\n",
       "      <td>0</td>\n",
       "      <td>20181017</td>\n",
       "      <td>HOU</td>\n",
       "      <td>NOP</td>\n",
       "    </tr>\n",
       "    <tr>\n",
       "      <th>2</th>\n",
       "      <td>Shot Chart Detail</td>\n",
       "      <td>0021800009</td>\n",
       "      <td>55</td>\n",
       "      <td>201935</td>\n",
       "      <td>James Harden</td>\n",
       "      <td>1610612745</td>\n",
       "      <td>Houston Rockets</td>\n",
       "      <td>1</td>\n",
       "      <td>7</td>\n",
       "      <td>51</td>\n",
       "      <td>...</td>\n",
       "      <td>Center(C)</td>\n",
       "      <td>24+ ft.</td>\n",
       "      <td>25</td>\n",
       "      <td>-1</td>\n",
       "      <td>259</td>\n",
       "      <td>1</td>\n",
       "      <td>0</td>\n",
       "      <td>20181017</td>\n",
       "      <td>HOU</td>\n",
       "      <td>NOP</td>\n",
       "    </tr>\n",
       "    <tr>\n",
       "      <th>3</th>\n",
       "      <td>Shot Chart Detail</td>\n",
       "      <td>0021800009</td>\n",
       "      <td>103</td>\n",
       "      <td>201935</td>\n",
       "      <td>James Harden</td>\n",
       "      <td>1610612745</td>\n",
       "      <td>Houston Rockets</td>\n",
       "      <td>1</td>\n",
       "      <td>4</td>\n",
       "      <td>12</td>\n",
       "      <td>...</td>\n",
       "      <td>Left Side Center(LC)</td>\n",
       "      <td>24+ ft.</td>\n",
       "      <td>26</td>\n",
       "      <td>-120</td>\n",
       "      <td>232</td>\n",
       "      <td>1</td>\n",
       "      <td>1</td>\n",
       "      <td>20181017</td>\n",
       "      <td>HOU</td>\n",
       "      <td>NOP</td>\n",
       "    </tr>\n",
       "    <tr>\n",
       "      <th>4</th>\n",
       "      <td>Shot Chart Detail</td>\n",
       "      <td>0021800009</td>\n",
       "      <td>246</td>\n",
       "      <td>201935</td>\n",
       "      <td>James Harden</td>\n",
       "      <td>1610612745</td>\n",
       "      <td>Houston Rockets</td>\n",
       "      <td>2</td>\n",
       "      <td>6</td>\n",
       "      <td>6</td>\n",
       "      <td>...</td>\n",
       "      <td>Center(C)</td>\n",
       "      <td>Less Than 8 ft.</td>\n",
       "      <td>2</td>\n",
       "      <td>3</td>\n",
       "      <td>20</td>\n",
       "      <td>1</td>\n",
       "      <td>1</td>\n",
       "      <td>20181017</td>\n",
       "      <td>HOU</td>\n",
       "      <td>NOP</td>\n",
       "    </tr>\n",
       "  </tbody>\n",
       "</table>\n",
       "<p>5 rows × 24 columns</p>\n",
       "</div>"
      ],
      "text/plain": [
       "           GRID_TYPE     GAME_ID  GAME_EVENT_ID  PLAYER_ID   PLAYER_NAME  \\\n",
       "0  Shot Chart Detail  0021800009             11     201935  James Harden   \n",
       "1  Shot Chart Detail  0021800009             28     201935  James Harden   \n",
       "2  Shot Chart Detail  0021800009             55     201935  James Harden   \n",
       "3  Shot Chart Detail  0021800009            103     201935  James Harden   \n",
       "4  Shot Chart Detail  0021800009            246     201935  James Harden   \n",
       "\n",
       "      TEAM_ID        TEAM_NAME  PERIOD  MINUTES_REMAINING  SECONDS_REMAINING  \\\n",
       "0  1610612745  Houston Rockets       1                 11                 17   \n",
       "1  1610612745  Houston Rockets       1                  9                 33   \n",
       "2  1610612745  Houston Rockets       1                  7                 51   \n",
       "3  1610612745  Houston Rockets       1                  4                 12   \n",
       "4  1610612745  Houston Rockets       2                  6                  6   \n",
       "\n",
       "   ...        SHOT_ZONE_AREA  SHOT_ZONE_RANGE SHOT_DISTANCE LOC_X LOC_Y  \\\n",
       "0  ...             Center(C)  Less Than 8 ft.             1     3    12   \n",
       "1  ...             Center(C)          24+ ft.            27   -61   264   \n",
       "2  ...             Center(C)          24+ ft.            25    -1   259   \n",
       "3  ...  Left Side Center(LC)          24+ ft.            26  -120   232   \n",
       "4  ...             Center(C)  Less Than 8 ft.             2     3    20   \n",
       "\n",
       "  SHOT_ATTEMPTED_FLAG  SHOT_MADE_FLAG  GAME_DATE  HTM  VTM  \n",
       "0                   1               0   20181017  HOU  NOP  \n",
       "1                   1               0   20181017  HOU  NOP  \n",
       "2                   1               0   20181017  HOU  NOP  \n",
       "3                   1               1   20181017  HOU  NOP  \n",
       "4                   1               1   20181017  HOU  NOP  \n",
       "\n",
       "[5 rows x 24 columns]"
      ]
     },
     "execution_count": 12,
     "metadata": {},
     "output_type": "execute_result"
    }
   ],
   "source": [
    "harden_data.head()"
   ]
  },
  {
   "cell_type": "code",
   "execution_count": 13,
   "metadata": {},
   "outputs": [],
   "source": [
    "import numpy as np\n",
    "import pandas as pd\n",
    "import seaborn as sns\n",
    "import matplotlib.pyplot as plt\n",
    "from scipy import stats"
   ]
  },
  {
   "cell_type": "markdown",
   "metadata": {},
   "source": [
    "Method: Paired Two Sample t-test"
   ]
  },
  {
   "cell_type": "markdown",
   "metadata": {},
   "source": [
    "${\\bar {X}}_{D}={\\frac  {1}{n}}\\sum _{i}(X_{{i2}}-X_{{i1}})={\\frac  {1}{n}}\\sum _{i}X_{{i2}}-{\\frac  {1}{n}}\\sum _{i}X_{{i1}}={\\bar  {X}}_{2}-{\\bar  {X}}_{1}$"
   ]
  },
  {
   "cell_type": "markdown",
   "metadata": {},
   "source": [
    "${\\displaystyle t={\\frac {{\\bar {X}}_{D}-\\mu _{0}}{\\frac {s_{D}}{\\sqrt {n}}}}}$"
   ]
  },
  {
   "cell_type": "markdown",
   "metadata": {},
   "source": [
    "# Does Stephen Curry and James Harden percent field goal make percent (FGM) in the first half differ significantly from the second half? "
   ]
  },
  {
   "cell_type": "code",
   "execution_count": 14,
   "metadata": {},
   "outputs": [],
   "source": [
    "# Data frames split into each half for Curry and Harden\n",
    "curry1 = curry_data.loc[curry_data['PERIOD'].isin([1,2])][['GAME_ID', \n",
    "                    'PLAYER_NAME', \n",
    "                    'PERIOD',\n",
    "                    'ACTION_TYPE',\n",
    "                    'SHOT_TYPE',\n",
    "                    'SHOT_DISTANCE',\n",
    "                    'SHOT_ATTEMPTED_FLAG',\n",
    "                    'SHOT_MADE_FLAG',\n",
    "                    'HTM',\n",
    "                    'VTM']]\n",
    "curry2 = curry_data.loc[curry_data['PERIOD'].isin([3,4])][['GAME_ID', \n",
    "                    'PLAYER_NAME', \n",
    "                    'PERIOD',\n",
    "                    'ACTION_TYPE',\n",
    "                    'SHOT_TYPE',\n",
    "                    'SHOT_DISTANCE',\n",
    "                    'SHOT_ATTEMPTED_FLAG',\n",
    "                    'SHOT_MADE_FLAG',\n",
    "                    'HTM',\n",
    "                    'VTM']]\n",
    "harden1 = harden_data.loc[harden_data['PERIOD'].isin([1,2])][['GAME_ID', \n",
    "                    'PLAYER_NAME', \n",
    "                    'PERIOD',\n",
    "                    'ACTION_TYPE',\n",
    "                    'SHOT_TYPE',\n",
    "                    'SHOT_DISTANCE',\n",
    "                    'SHOT_ATTEMPTED_FLAG',\n",
    "                    'SHOT_MADE_FLAG',\n",
    "                    'HTM',\n",
    "                    'VTM']]\n",
    "harden2 = harden_data.loc[harden_data['PERIOD'].isin([3,4])][['GAME_ID', \n",
    "                    'PLAYER_NAME', \n",
    "                    'PERIOD',\n",
    "                    'ACTION_TYPE',\n",
    "                    'SHOT_TYPE',\n",
    "                    'SHOT_DISTANCE',\n",
    "                    'SHOT_ATTEMPTED_FLAG',\n",
    "                    'SHOT_MADE_FLAG',\n",
    "                    'HTM',\n",
    "                    'VTM']]"
   ]
  },
  {
   "cell_type": "code",
   "execution_count": 15,
   "metadata": {},
   "outputs": [],
   "source": [
    "# Remove 2 games where Curry did not play the second half\n",
    "list(set(curry1['GAME_ID']) - set(curry2['GAME_ID'])) #=> '0021800091','0021801215'\n",
    "curry1 = curry1[(curry1.GAME_ID != '0021800091')& (curry1.GAME_ID != '0021801215')]"
   ]
  },
  {
   "cell_type": "code",
   "execution_count": 16,
   "metadata": {},
   "outputs": [
    {
     "data": {
      "text/plain": [
       "set()"
      ]
     },
     "execution_count": 16,
     "metadata": {},
     "output_type": "execute_result"
    }
   ],
   "source": [
    "# To confirm both players played first and second half:\n",
    "set(curry1['GAME_ID']) - set(curry2['GAME_ID'])\n",
    "set(harden1['GAME_ID']) - set(harden2['GAME_ID'])"
   ]
  },
  {
   "cell_type": "code",
   "execution_count": 17,
   "metadata": {},
   "outputs": [],
   "source": [
    "# Get average field goal make (FGM) by each game for 1st and 2nd half\n",
    "curry1_FGM = pd.pivot_table(curry1, \n",
    "                      values='SHOT_MADE_FLAG', \n",
    "                      index=curry1['GAME_ID'], \n",
    "                      aggfunc='mean', \n",
    "                      fill_value=0)\n",
    "curry2_FGM = pd.pivot_table(curry2, \n",
    "                      values='SHOT_MADE_FLAG', \n",
    "                      index=curry2['GAME_ID'], \n",
    "                      aggfunc='mean', \n",
    "                      fill_value=0)\n",
    "harden1_FGM = pd.pivot_table(harden1, \n",
    "                      values='SHOT_MADE_FLAG', \n",
    "                      index=harden1['GAME_ID'], \n",
    "                      aggfunc='mean', \n",
    "                      fill_value=0)\n",
    "harden2_FGM = pd.pivot_table(harden2, \n",
    "                      values='SHOT_MADE_FLAG', \n",
    "                      index=harden2['GAME_ID'], \n",
    "                      aggfunc='mean', \n",
    "                      fill_value=0)"
   ]
  },
  {
   "cell_type": "code",
   "execution_count": 18,
   "metadata": {},
   "outputs": [
    {
     "data": {
      "text/plain": [
       "0"
      ]
     },
     "execution_count": 18,
     "metadata": {},
     "output_type": "execute_result"
    }
   ],
   "source": [
    "curry1_FGMblah = pd.pivot_table(curry1, \n",
    "                      values='SHOT_MADE_FLAG', \n",
    "                      index=curry1['GAME_ID'], \n",
    "                      aggfunc='count', \n",
    "                      fill_value=0)\n",
    "curry2_FGMblah = pd.pivot_table(curry2, \n",
    "                      values='SHOT_MADE_FLAG', \n",
    "                      index=curry1['GAME_ID'], \n",
    "                      aggfunc='count', \n",
    "                      fill_value=0)\n",
    "len(curry2_FGMblah)"
   ]
  },
  {
   "cell_type": "code",
   "execution_count": 19,
   "metadata": {},
   "outputs": [
    {
     "data": {
      "text/html": [
       "<div>\n",
       "<style scoped>\n",
       "    .dataframe tbody tr th:only-of-type {\n",
       "        vertical-align: middle;\n",
       "    }\n",
       "\n",
       "    .dataframe tbody tr th {\n",
       "        vertical-align: top;\n",
       "    }\n",
       "\n",
       "    .dataframe thead th {\n",
       "        text-align: right;\n",
       "    }\n",
       "</style>\n",
       "<table border=\"1\" class=\"dataframe\">\n",
       "  <thead>\n",
       "    <tr style=\"text-align: right;\">\n",
       "      <th></th>\n",
       "      <th>GAME_ID</th>\n",
       "      <th>PLAYER_NAME</th>\n",
       "      <th>PERIOD</th>\n",
       "      <th>ACTION_TYPE</th>\n",
       "      <th>SHOT_TYPE</th>\n",
       "      <th>SHOT_DISTANCE</th>\n",
       "      <th>SHOT_ATTEMPTED_FLAG</th>\n",
       "      <th>SHOT_MADE_FLAG</th>\n",
       "      <th>HTM</th>\n",
       "      <th>VTM</th>\n",
       "    </tr>\n",
       "  </thead>\n",
       "  <tbody>\n",
       "    <tr>\n",
       "      <th>9</th>\n",
       "      <td>0021800002</td>\n",
       "      <td>Stephen Curry</td>\n",
       "      <td>3</td>\n",
       "      <td>Running Pull-Up Jump Shot</td>\n",
       "      <td>3PT Field Goal</td>\n",
       "      <td>28</td>\n",
       "      <td>1</td>\n",
       "      <td>1</td>\n",
       "      <td>GSW</td>\n",
       "      <td>OKC</td>\n",
       "    </tr>\n",
       "    <tr>\n",
       "      <th>10</th>\n",
       "      <td>0021800002</td>\n",
       "      <td>Stephen Curry</td>\n",
       "      <td>3</td>\n",
       "      <td>Jump Shot</td>\n",
       "      <td>3PT Field Goal</td>\n",
       "      <td>28</td>\n",
       "      <td>1</td>\n",
       "      <td>1</td>\n",
       "      <td>GSW</td>\n",
       "      <td>OKC</td>\n",
       "    </tr>\n",
       "    <tr>\n",
       "      <th>11</th>\n",
       "      <td>0021800002</td>\n",
       "      <td>Stephen Curry</td>\n",
       "      <td>3</td>\n",
       "      <td>Jump Shot</td>\n",
       "      <td>3PT Field Goal</td>\n",
       "      <td>26</td>\n",
       "      <td>1</td>\n",
       "      <td>0</td>\n",
       "      <td>GSW</td>\n",
       "      <td>OKC</td>\n",
       "    </tr>\n",
       "    <tr>\n",
       "      <th>12</th>\n",
       "      <td>0021800002</td>\n",
       "      <td>Stephen Curry</td>\n",
       "      <td>3</td>\n",
       "      <td>Step Back Jump shot</td>\n",
       "      <td>3PT Field Goal</td>\n",
       "      <td>26</td>\n",
       "      <td>1</td>\n",
       "      <td>0</td>\n",
       "      <td>GSW</td>\n",
       "      <td>OKC</td>\n",
       "    </tr>\n",
       "    <tr>\n",
       "      <th>13</th>\n",
       "      <td>0021800002</td>\n",
       "      <td>Stephen Curry</td>\n",
       "      <td>3</td>\n",
       "      <td>Jump Shot</td>\n",
       "      <td>3PT Field Goal</td>\n",
       "      <td>25</td>\n",
       "      <td>1</td>\n",
       "      <td>0</td>\n",
       "      <td>GSW</td>\n",
       "      <td>OKC</td>\n",
       "    </tr>\n",
       "  </tbody>\n",
       "</table>\n",
       "</div>"
      ],
      "text/plain": [
       "       GAME_ID    PLAYER_NAME  PERIOD                ACTION_TYPE  \\\n",
       "9   0021800002  Stephen Curry       3  Running Pull-Up Jump Shot   \n",
       "10  0021800002  Stephen Curry       3                  Jump Shot   \n",
       "11  0021800002  Stephen Curry       3                  Jump Shot   \n",
       "12  0021800002  Stephen Curry       3        Step Back Jump shot   \n",
       "13  0021800002  Stephen Curry       3                  Jump Shot   \n",
       "\n",
       "         SHOT_TYPE  SHOT_DISTANCE  SHOT_ATTEMPTED_FLAG  SHOT_MADE_FLAG  HTM  \\\n",
       "9   3PT Field Goal             28                    1               1  GSW   \n",
       "10  3PT Field Goal             28                    1               1  GSW   \n",
       "11  3PT Field Goal             26                    1               0  GSW   \n",
       "12  3PT Field Goal             26                    1               0  GSW   \n",
       "13  3PT Field Goal             25                    1               0  GSW   \n",
       "\n",
       "    VTM  \n",
       "9   OKC  \n",
       "10  OKC  \n",
       "11  OKC  \n",
       "12  OKC  \n",
       "13  OKC  "
      ]
     },
     "execution_count": 19,
     "metadata": {},
     "output_type": "execute_result"
    }
   ],
   "source": [
    "curry2.head()"
   ]
  },
  {
   "cell_type": "code",
   "execution_count": 20,
   "metadata": {},
   "outputs": [
    {
     "data": {
      "text/html": [
       "<div>\n",
       "<style scoped>\n",
       "    .dataframe tbody tr th:only-of-type {\n",
       "        vertical-align: middle;\n",
       "    }\n",
       "\n",
       "    .dataframe tbody tr th {\n",
       "        vertical-align: top;\n",
       "    }\n",
       "\n",
       "    .dataframe thead th {\n",
       "        text-align: right;\n",
       "    }\n",
       "</style>\n",
       "<table border=\"1\" class=\"dataframe\">\n",
       "  <thead>\n",
       "    <tr style=\"text-align: right;\">\n",
       "      <th></th>\n",
       "      <th>SHOT_MADE_FLAG</th>\n",
       "    </tr>\n",
       "    <tr>\n",
       "      <th>GAME_ID</th>\n",
       "      <th></th>\n",
       "    </tr>\n",
       "  </thead>\n",
       "  <tbody>\n",
       "    <tr>\n",
       "      <th>0021800002</th>\n",
       "      <td>0.666667</td>\n",
       "    </tr>\n",
       "    <tr>\n",
       "      <th>0021800024</th>\n",
       "      <td>0.500000</td>\n",
       "    </tr>\n",
       "    <tr>\n",
       "      <th>0021800038</th>\n",
       "      <td>0.333333</td>\n",
       "    </tr>\n",
       "    <tr>\n",
       "      <th>0021800047</th>\n",
       "      <td>0.545455</td>\n",
       "    </tr>\n",
       "    <tr>\n",
       "      <th>0021800062</th>\n",
       "      <td>0.714286</td>\n",
       "    </tr>\n",
       "  </tbody>\n",
       "</table>\n",
       "</div>"
      ],
      "text/plain": [
       "            SHOT_MADE_FLAG\n",
       "GAME_ID                   \n",
       "0021800002        0.666667\n",
       "0021800024        0.500000\n",
       "0021800038        0.333333\n",
       "0021800047        0.545455\n",
       "0021800062        0.714286"
      ]
     },
     "execution_count": 20,
     "metadata": {},
     "output_type": "execute_result"
    }
   ],
   "source": [
    "# Shot made percent for Curry 1st half\n",
    "curry1_FGM.head()"
   ]
  },
  {
   "cell_type": "code",
   "execution_count": 21,
   "metadata": {},
   "outputs": [
    {
     "data": {
      "text/html": [
       "<div>\n",
       "<style scoped>\n",
       "    .dataframe tbody tr th:only-of-type {\n",
       "        vertical-align: middle;\n",
       "    }\n",
       "\n",
       "    .dataframe tbody tr th {\n",
       "        vertical-align: top;\n",
       "    }\n",
       "\n",
       "    .dataframe thead th {\n",
       "        text-align: right;\n",
       "    }\n",
       "</style>\n",
       "<table border=\"1\" class=\"dataframe\">\n",
       "  <thead>\n",
       "    <tr style=\"text-align: right;\">\n",
       "      <th></th>\n",
       "      <th>SHOT_MADE_FLAG</th>\n",
       "    </tr>\n",
       "    <tr>\n",
       "      <th>GAME_ID</th>\n",
       "      <th></th>\n",
       "    </tr>\n",
       "  </thead>\n",
       "  <tbody>\n",
       "    <tr>\n",
       "      <th>0021800002</th>\n",
       "      <td>0.454545</td>\n",
       "    </tr>\n",
       "    <tr>\n",
       "      <th>0021800024</th>\n",
       "      <td>0.562500</td>\n",
       "    </tr>\n",
       "    <tr>\n",
       "      <th>0021800038</th>\n",
       "      <td>0.500000</td>\n",
       "    </tr>\n",
       "    <tr>\n",
       "      <th>0021800047</th>\n",
       "      <td>0.714286</td>\n",
       "    </tr>\n",
       "    <tr>\n",
       "      <th>0021800062</th>\n",
       "      <td>0.500000</td>\n",
       "    </tr>\n",
       "  </tbody>\n",
       "</table>\n",
       "</div>"
      ],
      "text/plain": [
       "            SHOT_MADE_FLAG\n",
       "GAME_ID                   \n",
       "0021800002        0.454545\n",
       "0021800024        0.562500\n",
       "0021800038        0.500000\n",
       "0021800047        0.714286\n",
       "0021800062        0.500000"
      ]
     },
     "execution_count": 21,
     "metadata": {},
     "output_type": "execute_result"
    }
   ],
   "source": [
    "# Shot made percent for Curry 2nd half\n",
    "curry2_FGM.head()"
   ]
  },
  {
   "cell_type": "code",
   "execution_count": 22,
   "metadata": {},
   "outputs": [
    {
     "data": {
      "image/png": "[encoded data removed]",
      "text/plain": [
       "<Figure size 432x288 with 1 Axes>"
      ]
     },
     "metadata": {
      "needs_background": "light"
     },
     "output_type": "display_data"
    }
   ],
   "source": [
    "sns.distplot(curry1_FGM, kde=False, rug=True)\n",
    "plt.title(\"Distribution of Curry's FGM% 1st Half\",fontsize=15)\n",
    "plt.xlabel(\"Percent Field Goal Make\", fontsize=15)\n",
    "plt.ylabel(\"Frequency\",fontsize=15);"
   ]
  },
  {
   "cell_type": "code",
   "execution_count": 23,
   "metadata": {},
   "outputs": [
    {
     "data": {
      "image/png": "[encoded data removed]",
      "text/plain": [
       "<Figure size 432x288 with 1 Axes>"
      ]
     },
     "metadata": {
      "needs_background": "light"
     },
     "output_type": "display_data"
    }
   ],
   "source": [
    "sns.distplot(curry2_FGM, kde=False, rug=True)\n",
    "plt.title(\"Distribution of Curry's FGM% 2nd Half\",fontsize=15)\n",
    "plt.xlabel(\"Percent Field Goal Make\", fontsize=15)\n",
    "plt.ylabel(\"Frequency\",fontsize=15);"
   ]
  },
  {
   "cell_type": "markdown",
   "metadata": {},
   "source": [
    "## Paired Sample t-test for Curry 1st vs. 2nd half field goal make percent"
   ]
  },
  {
   "cell_type": "code",
   "execution_count": 24,
   "metadata": {},
   "outputs": [
    {
     "data": {
      "text/plain": [
       "Ttest_relResult(statistic=array([0.03516276]), pvalue=array([0.97205609]))"
      ]
     },
     "execution_count": 24,
     "metadata": {},
     "output_type": "execute_result"
    }
   ],
   "source": [
    "# Paired Sample t-test for Curry 1st vs. 2nd half FGM%\n",
    "stats.ttest_rel(curry1_FGM, curry2_FGM)"
   ]
  },
  {
   "cell_type": "markdown",
   "metadata": {},
   "source": [
    "#### Although the distribution between Curry's 1st and 2nd half shot make percent look different (make percent going down), there is no statistically significant difference (t(67) = 0.0351, p = 0.9721). Thus, the 'clutch' factor can not be determined by analyzing field goal make percent between 1st and 2nd half."
   ]
  },
  {
   "cell_type": "code",
   "execution_count": 43,
   "metadata": {},
   "outputs": [
    {
     "data": {
      "image/png": "[encoded data removed]",
      "text/plain": [
       "<Figure size 432x288 with 1 Axes>"
      ]
     },
     "metadata": {
      "needs_background": "light"
     },
     "output_type": "display_data"
    }
   ],
   "source": [
    "sns.distplot(harden1_FGM, kde=False, rug=True, color='red')\n",
    "plt.title(\"Distribution of Harden's FGM% 1st Half\",fontsize=15)\n",
    "plt.xlabel(\"Percent Field Goal Make\", fontsize=15)\n",
    "plt.ylabel(\"Frequency\",fontsize=15);"
   ]
  },
  {
   "cell_type": "code",
   "execution_count": 44,
   "metadata": {},
   "outputs": [
    {
     "data": {
      "image/png": "[encoded data removed]",
      "text/plain": [
       "<Figure size 432x288 with 1 Axes>"
      ]
     },
     "metadata": {
      "needs_background": "light"
     },
     "output_type": "display_data"
    }
   ],
   "source": [
    "sns.distplot(harden2_FGM, kde=False, rug=True, color='red')\n",
    "plt.title(\"Distribution of Harden's FGM% 2nd Half\",fontsize=15)\n",
    "plt.xlabel(\"Percent Field Goal Make\", fontsize=15)\n",
    "plt.ylabel(\"Frequency\",fontsize=15);"
   ]
  },
  {
   "cell_type": "markdown",
   "metadata": {},
   "source": [
    "## Paired Sample t-test for Harden 1st vs. 2nd half field goal make percent"
   ]
  },
  {
   "cell_type": "code",
   "execution_count": 27,
   "metadata": {},
   "outputs": [
    {
     "data": {
      "text/plain": [
       "Ttest_relResult(statistic=array([0.94643695]), pvalue=array([0.34688644]))"
      ]
     },
     "execution_count": 27,
     "metadata": {},
     "output_type": "execute_result"
    }
   ],
   "source": [
    "# Paired Sample t-test for Harden 1st vs. 2nd half FGM%\n",
    "stats.ttest_rel(harden1_FGM, harden2_FGM)"
   ]
  },
  {
   "cell_type": "markdown",
   "metadata": {},
   "source": [
    "#### Although the distribution between Harden's 1st and 2nd half shot make percent look different (make percent going up), there is no statistically significant difference (t(67) = 0.9464, p = 0.3469). Thus, the 'clutch' factor can not be determined by analyzing field goal make percent between 1st and 2nd half."
   ]
  },
  {
   "cell_type": "markdown",
   "metadata": {},
   "source": [
    "# Does Stephen Curry and James Harden choice of shots taken differ significantly from 1st to 2nd half? "
   ]
  },
  {
   "cell_type": "code",
   "execution_count": 28,
   "metadata": {},
   "outputs": [
    {
     "data": {
      "text/html": [
       "<div>\n",
       "<style scoped>\n",
       "    .dataframe tbody tr th:only-of-type {\n",
       "        vertical-align: middle;\n",
       "    }\n",
       "\n",
       "    .dataframe tbody tr th {\n",
       "        vertical-align: top;\n",
       "    }\n",
       "\n",
       "    .dataframe thead th {\n",
       "        text-align: right;\n",
       "    }\n",
       "</style>\n",
       "<table border=\"1\" class=\"dataframe\">\n",
       "  <thead>\n",
       "    <tr style=\"text-align: right;\">\n",
       "      <th>ACTION_TYPE</th>\n",
       "      <th>Jump Shot</th>\n",
       "      <th>Pullup Jump shot</th>\n",
       "      <th>Step Back Jump shot</th>\n",
       "      <th>Driving Finger Roll Layup Shot</th>\n",
       "      <th>Driving Layup Shot</th>\n",
       "      <th>Driving Floating Jump Shot</th>\n",
       "      <th>Cutting Layup Shot</th>\n",
       "      <th>Layup Shot</th>\n",
       "      <th>Running Pull-Up Jump Shot</th>\n",
       "      <th>Running Layup Shot</th>\n",
       "    </tr>\n",
       "    <tr>\n",
       "      <th>GAME_ID</th>\n",
       "      <th></th>\n",
       "      <th></th>\n",
       "      <th></th>\n",
       "      <th></th>\n",
       "      <th></th>\n",
       "      <th></th>\n",
       "      <th></th>\n",
       "      <th></th>\n",
       "      <th></th>\n",
       "      <th></th>\n",
       "    </tr>\n",
       "  </thead>\n",
       "  <tbody>\n",
       "    <tr>\n",
       "      <th>0021800002</th>\n",
       "      <td>2.0</td>\n",
       "      <td>0.0</td>\n",
       "      <td>1.0</td>\n",
       "      <td>0.0</td>\n",
       "      <td>1.0</td>\n",
       "      <td>2.0</td>\n",
       "      <td>1.0</td>\n",
       "      <td>0.0</td>\n",
       "      <td>0.0</td>\n",
       "      <td>0.0</td>\n",
       "    </tr>\n",
       "    <tr>\n",
       "      <th>0021800024</th>\n",
       "      <td>3.0</td>\n",
       "      <td>3.0</td>\n",
       "      <td>0.0</td>\n",
       "      <td>0.0</td>\n",
       "      <td>1.0</td>\n",
       "      <td>0.0</td>\n",
       "      <td>0.0</td>\n",
       "      <td>1.0</td>\n",
       "      <td>0.0</td>\n",
       "      <td>0.0</td>\n",
       "    </tr>\n",
       "    <tr>\n",
       "      <th>0021800038</th>\n",
       "      <td>0.0</td>\n",
       "      <td>4.0</td>\n",
       "      <td>0.0</td>\n",
       "      <td>1.0</td>\n",
       "      <td>1.0</td>\n",
       "      <td>0.0</td>\n",
       "      <td>0.0</td>\n",
       "      <td>0.0</td>\n",
       "      <td>0.0</td>\n",
       "      <td>0.0</td>\n",
       "    </tr>\n",
       "    <tr>\n",
       "      <th>0021800047</th>\n",
       "      <td>4.0</td>\n",
       "      <td>1.0</td>\n",
       "      <td>2.0</td>\n",
       "      <td>2.0</td>\n",
       "      <td>0.0</td>\n",
       "      <td>0.0</td>\n",
       "      <td>0.0</td>\n",
       "      <td>0.0</td>\n",
       "      <td>0.0</td>\n",
       "      <td>0.0</td>\n",
       "    </tr>\n",
       "    <tr>\n",
       "      <th>0021800062</th>\n",
       "      <td>1.0</td>\n",
       "      <td>4.0</td>\n",
       "      <td>1.0</td>\n",
       "      <td>3.0</td>\n",
       "      <td>1.0</td>\n",
       "      <td>0.0</td>\n",
       "      <td>1.0</td>\n",
       "      <td>0.0</td>\n",
       "      <td>1.0</td>\n",
       "      <td>0.0</td>\n",
       "    </tr>\n",
       "  </tbody>\n",
       "</table>\n",
       "</div>"
      ],
      "text/plain": [
       "ACTION_TYPE  Jump Shot  Pullup Jump shot  Step Back Jump shot  \\\n",
       "GAME_ID                                                         \n",
       "0021800002         2.0               0.0                  1.0   \n",
       "0021800024         3.0               3.0                  0.0   \n",
       "0021800038         0.0               4.0                  0.0   \n",
       "0021800047         4.0               1.0                  2.0   \n",
       "0021800062         1.0               4.0                  1.0   \n",
       "\n",
       "ACTION_TYPE  Driving Finger Roll Layup Shot  Driving Layup Shot  \\\n",
       "GAME_ID                                                           \n",
       "0021800002                              0.0                 1.0   \n",
       "0021800024                              0.0                 1.0   \n",
       "0021800038                              1.0                 1.0   \n",
       "0021800047                              2.0                 0.0   \n",
       "0021800062                              3.0                 1.0   \n",
       "\n",
       "ACTION_TYPE  Driving Floating Jump Shot  Cutting Layup Shot  Layup Shot  \\\n",
       "GAME_ID                                                                   \n",
       "0021800002                          2.0                 1.0         0.0   \n",
       "0021800024                          0.0                 0.0         1.0   \n",
       "0021800038                          0.0                 0.0         0.0   \n",
       "0021800047                          0.0                 0.0         0.0   \n",
       "0021800062                          0.0                 1.0         0.0   \n",
       "\n",
       "ACTION_TYPE  Running Pull-Up Jump Shot  Running Layup Shot  \n",
       "GAME_ID                                                     \n",
       "0021800002                         0.0                 0.0  \n",
       "0021800024                         0.0                 0.0  \n",
       "0021800038                         0.0                 0.0  \n",
       "0021800047                         0.0                 0.0  \n",
       "0021800062                         1.0                 0.0  "
      ]
     },
     "execution_count": 28,
     "metadata": {},
     "output_type": "execute_result"
    }
   ],
   "source": [
    "# Curry top 10 shot choices for 1st half by game:\n",
    "curry1_shots = curry1.groupby(['GAME_ID', 'ACTION_TYPE']).size().unstack().fillna(0)\n",
    "curry1_top10 = curry1_shots[list(curry1.ACTION_TYPE.value_counts().iloc[:10].index)]\n",
    "curry1_top10.head()"
   ]
  },
  {
   "cell_type": "code",
   "execution_count": 29,
   "metadata": {},
   "outputs": [
    {
     "data": {
      "text/html": [
       "<div>\n",
       "<style scoped>\n",
       "    .dataframe tbody tr th:only-of-type {\n",
       "        vertical-align: middle;\n",
       "    }\n",
       "\n",
       "    .dataframe tbody tr th {\n",
       "        vertical-align: top;\n",
       "    }\n",
       "\n",
       "    .dataframe thead th {\n",
       "        text-align: right;\n",
       "    }\n",
       "</style>\n",
       "<table border=\"1\" class=\"dataframe\">\n",
       "  <thead>\n",
       "    <tr style=\"text-align: right;\">\n",
       "      <th>ACTION_TYPE</th>\n",
       "      <th>Jump Shot</th>\n",
       "      <th>Pullup Jump shot</th>\n",
       "      <th>Step Back Jump shot</th>\n",
       "      <th>Driving Finger Roll Layup Shot</th>\n",
       "      <th>Driving Layup Shot</th>\n",
       "      <th>Layup Shot</th>\n",
       "      <th>Driving Floating Jump Shot</th>\n",
       "      <th>Cutting Layup Shot</th>\n",
       "      <th>Running Pull-Up Jump Shot</th>\n",
       "      <th>Running Layup Shot</th>\n",
       "    </tr>\n",
       "    <tr>\n",
       "      <th>GAME_ID</th>\n",
       "      <th></th>\n",
       "      <th></th>\n",
       "      <th></th>\n",
       "      <th></th>\n",
       "      <th></th>\n",
       "      <th></th>\n",
       "      <th></th>\n",
       "      <th></th>\n",
       "      <th></th>\n",
       "      <th></th>\n",
       "    </tr>\n",
       "  </thead>\n",
       "  <tbody>\n",
       "    <tr>\n",
       "      <th>0021800002</th>\n",
       "      <td>5.0</td>\n",
       "      <td>1.0</td>\n",
       "      <td>1.0</td>\n",
       "      <td>0.0</td>\n",
       "      <td>2.0</td>\n",
       "      <td>0.0</td>\n",
       "      <td>0.0</td>\n",
       "      <td>0.0</td>\n",
       "      <td>1.0</td>\n",
       "      <td>0.0</td>\n",
       "    </tr>\n",
       "    <tr>\n",
       "      <th>0021800024</th>\n",
       "      <td>5.0</td>\n",
       "      <td>2.0</td>\n",
       "      <td>3.0</td>\n",
       "      <td>0.0</td>\n",
       "      <td>2.0</td>\n",
       "      <td>1.0</td>\n",
       "      <td>0.0</td>\n",
       "      <td>2.0</td>\n",
       "      <td>0.0</td>\n",
       "      <td>0.0</td>\n",
       "    </tr>\n",
       "    <tr>\n",
       "      <th>0021800038</th>\n",
       "      <td>8.0</td>\n",
       "      <td>3.0</td>\n",
       "      <td>1.0</td>\n",
       "      <td>0.0</td>\n",
       "      <td>0.0</td>\n",
       "      <td>0.0</td>\n",
       "      <td>0.0</td>\n",
       "      <td>0.0</td>\n",
       "      <td>0.0</td>\n",
       "      <td>0.0</td>\n",
       "    </tr>\n",
       "    <tr>\n",
       "      <th>0021800047</th>\n",
       "      <td>3.0</td>\n",
       "      <td>3.0</td>\n",
       "      <td>0.0</td>\n",
       "      <td>0.0</td>\n",
       "      <td>0.0</td>\n",
       "      <td>0.0</td>\n",
       "      <td>1.0</td>\n",
       "      <td>0.0</td>\n",
       "      <td>0.0</td>\n",
       "      <td>0.0</td>\n",
       "    </tr>\n",
       "    <tr>\n",
       "      <th>0021800062</th>\n",
       "      <td>4.0</td>\n",
       "      <td>3.0</td>\n",
       "      <td>0.0</td>\n",
       "      <td>1.0</td>\n",
       "      <td>0.0</td>\n",
       "      <td>0.0</td>\n",
       "      <td>0.0</td>\n",
       "      <td>0.0</td>\n",
       "      <td>0.0</td>\n",
       "      <td>0.0</td>\n",
       "    </tr>\n",
       "  </tbody>\n",
       "</table>\n",
       "</div>"
      ],
      "text/plain": [
       "ACTION_TYPE  Jump Shot  Pullup Jump shot  Step Back Jump shot  \\\n",
       "GAME_ID                                                         \n",
       "0021800002         5.0               1.0                  1.0   \n",
       "0021800024         5.0               2.0                  3.0   \n",
       "0021800038         8.0               3.0                  1.0   \n",
       "0021800047         3.0               3.0                  0.0   \n",
       "0021800062         4.0               3.0                  0.0   \n",
       "\n",
       "ACTION_TYPE  Driving Finger Roll Layup Shot  Driving Layup Shot  Layup Shot  \\\n",
       "GAME_ID                                                                       \n",
       "0021800002                              0.0                 2.0         0.0   \n",
       "0021800024                              0.0                 2.0         1.0   \n",
       "0021800038                              0.0                 0.0         0.0   \n",
       "0021800047                              0.0                 0.0         0.0   \n",
       "0021800062                              1.0                 0.0         0.0   \n",
       "\n",
       "ACTION_TYPE  Driving Floating Jump Shot  Cutting Layup Shot  \\\n",
       "GAME_ID                                                       \n",
       "0021800002                          0.0                 0.0   \n",
       "0021800024                          0.0                 2.0   \n",
       "0021800038                          0.0                 0.0   \n",
       "0021800047                          1.0                 0.0   \n",
       "0021800062                          0.0                 0.0   \n",
       "\n",
       "ACTION_TYPE  Running Pull-Up Jump Shot  Running Layup Shot  \n",
       "GAME_ID                                                     \n",
       "0021800002                         1.0                 0.0  \n",
       "0021800024                         0.0                 0.0  \n",
       "0021800038                         0.0                 0.0  \n",
       "0021800047                         0.0                 0.0  \n",
       "0021800062                         0.0                 0.0  "
      ]
     },
     "execution_count": 29,
     "metadata": {},
     "output_type": "execute_result"
    }
   ],
   "source": [
    "# Curry top 10 shot choices for 2nd half by game:\n",
    "curry2_shots = curry2.groupby(['GAME_ID', 'ACTION_TYPE']).size().unstack().fillna(0)\n",
    "curry2_top10 = curry2_shots[list(curry2.ACTION_TYPE.value_counts().iloc[:10].index)]\n",
    "curry2_top10.head()"
   ]
  },
  {
   "cell_type": "markdown",
   "metadata": {},
   "source": [
    "### Paired Sample t-test for Curry 1st vs. 2nd half shot choice by shot"
   ]
  },
  {
   "cell_type": "code",
   "execution_count": 30,
   "metadata": {},
   "outputs": [
    {
     "data": {
      "text/plain": [
       "[-0.04175572982493385, 0.9668194904843173]"
      ]
     },
     "execution_count": 30,
     "metadata": {},
     "output_type": "execute_result"
    }
   ],
   "source": [
    "t,p = stats.ttest_rel(curry1_top10.iloc[:,0:1], curry2_top10.iloc[:,0:1])\n",
    "[t[0], p[0]]"
   ]
  },
  {
   "cell_type": "code",
   "execution_count": 31,
   "metadata": {},
   "outputs": [
    {
     "data": {
      "text/plain": [
       "[(-0.04175572982493385, 0.9668194904843173),\n",
       " (1.525410449767915, 0.13193477074533613),\n",
       " (-0.944145141714115, 0.3485390317429349),\n",
       " (0.3755338080994053, 0.7084677690392408),\n",
       " (1.0901926332030278, 0.2795926440160902),\n",
       " (1.1830479219735288, 0.24103422488391565),\n",
       " (0.47760925355183503, 0.6345063217181006),\n",
       " (0.158959094972341, 0.8741865227122305),\n",
       " (-0.24082459397144518, 0.8104376074765185),\n",
       " (0.22778672580471013, 0.8205162472410166)]"
      ]
     },
     "execution_count": 31,
     "metadata": {},
     "output_type": "execute_result"
    }
   ],
   "source": [
    "# Paired Sample t-test for Curry 1st vs. 2nd half shot choice\n",
    "curry_shot_choice = []\n",
    "for i in range(0,10):\n",
    "    t,p = stats.ttest_rel(curry1_top10.iloc[:,i:i+1], curry2_top10.iloc[:,i:i+1])\n",
    "    curry_shot_choice.append((t[0], p[0]))\n",
    "curry_shot_choice"
   ]
  },
  {
   "cell_type": "markdown",
   "metadata": {},
   "source": [
    "#### WRITRE SOMETHING ABOUT THE TEST"
   ]
  },
  {
   "cell_type": "code",
   "execution_count": 32,
   "metadata": {},
   "outputs": [
    {
     "data": {
      "text/plain": [
       "ACTION_TYPE                      ACTION_TYPE                    \n",
       "Jump Shot                        Jump Shot                          299\n",
       "Pullup Jump shot                 Pullup Jump shot                   103\n",
       "Step Back Jump shot              Step Back Jump shot                 49\n",
       "Driving Finger Roll Layup Shot   Driving Finger Roll Layup Shot      34\n",
       "Driving Layup Shot               Driving Layup Shot                  34\n",
       "Driving Floating Jump Shot       Driving Floating Jump Shot          24\n",
       "Cutting Layup Shot               Cutting Layup Shot                  19\n",
       "Layup Shot                       Layup Shot                          16\n",
       "Running Pull-Up Jump Shot        Running Pull-Up Jump Shot           13\n",
       "Running Layup Shot               Running Layup Shot                  12\n",
       "Driving Reverse Layup Shot       Driving Reverse Layup Shot          11\n",
       "Driving Floating Bank Jump Shot  Driving Floating Bank Jump Shot     10\n",
       "Running Finger Roll Layup Shot   Running Finger Roll Layup Shot       9\n",
       "Running Jump Shot                Running Jump Shot                    7\n",
       "Fadeaway Jump Shot               Fadeaway Jump Shot                   6\n",
       "Cutting Finger Roll Layup Shot   Cutting Finger Roll Layup Shot       5\n",
       "Jump Bank Shot                   Jump Bank Shot                       5\n",
       "Reverse Layup Shot               Reverse Layup Shot                   5\n",
       "Turnaround Fadeaway shot         Turnaround Fadeaway shot             4\n",
       "Turnaround Jump Shot             Turnaround Jump Shot                 4\n",
       "Floating Jump shot               Floating Jump shot                   2\n",
       "Finger Roll Layup Shot           Finger Roll Layup Shot               1\n",
       "Hook Shot                        Hook Shot                            1\n",
       "Putback Dunk Shot                Putback Dunk Shot                    1\n",
       "Putback Layup Shot               Putback Layup Shot                   1\n",
       "Driving Dunk Shot                Driving Dunk Shot                    1\n",
       "Tip Layup Shot                   Tip Layup Shot                       1\n",
       "Name: ACTION_TYPE, dtype: int64"
      ]
     },
     "execution_count": 32,
     "metadata": {},
     "output_type": "execute_result"
    }
   ],
   "source": [
    "# plot the top 10 shot choice\n",
    "curry1.groupby('ACTION_TYPE')['ACTION_TYPE'].value_counts().sort_values(ascending=False)"
   ]
  },
  {
   "cell_type": "code",
   "execution_count": 33,
   "metadata": {},
   "outputs": [
    {
     "data": {
      "text/plain": [
       "Text(0.5, 1.0, '1st Half Curry Shot Choice')"
      ]
     },
     "execution_count": 33,
     "metadata": {},
     "output_type": "execute_result"
    },
    {
     "data": {
      "image/png": "[encoded data removed]",
      "text/plain": [
       "<Figure size 360x360 with 1 Axes>"
      ]
     },
     "metadata": {
      "needs_background": "light"
     },
     "output_type": "display_data"
    }
   ],
   "source": [
    "# plot the top 10 shot choice\n",
    "curry1_plot = sns.catplot(y=\"ACTION_TYPE\", \n",
    "                          kind=\"count\", \n",
    "                          palette=\"ch:.25\",\n",
    "                          order=curry1.ACTION_TYPE.value_counts().iloc[:10].index,\n",
    "                          data=curry1);\n",
    "curry1_plot.set(xlabel='', ylabel='')\n",
    "plt.title('1st Half Curry Shot Choice')"
   ]
  },
  {
   "cell_type": "code",
   "execution_count": 34,
   "metadata": {},
   "outputs": [
    {
     "data": {
      "text/plain": [
       "ACTION_TYPE                      ACTION_TYPE                    \n",
       "Jump Shot                        Jump Shot                          300\n",
       "Pullup Jump shot                 Pullup Jump shot                    85\n",
       "Step Back Jump shot              Step Back Jump shot                 59\n",
       "Driving Finger Roll Layup Shot   Driving Finger Roll Layup Shot      31\n",
       "Driving Layup Shot               Driving Layup Shot                  26\n",
       "Driving Floating Jump Shot       Driving Floating Jump Shot          16\n",
       "Layup Shot                       Layup Shot                          16\n",
       "Cutting Layup Shot               Cutting Layup Shot                  15\n",
       "Running Pull-Up Jump Shot        Running Pull-Up Jump Shot           14\n",
       "Running Layup Shot               Running Layup Shot                  11\n",
       "Turnaround Jump Shot             Turnaround Jump Shot                10\n",
       "Driving Floating Bank Jump Shot  Driving Floating Bank Jump Shot      9\n",
       "Running Finger Roll Layup Shot   Running Finger Roll Layup Shot       8\n",
       "Driving Reverse Layup Shot       Driving Reverse Layup Shot           7\n",
       "Floating Jump shot               Floating Jump shot                   6\n",
       "Running Jump Shot                Running Jump Shot                    6\n",
       "Reverse Layup Shot               Reverse Layup Shot                   4\n",
       "Turnaround Fadeaway shot         Turnaround Fadeaway shot             4\n",
       "Fadeaway Jump Shot               Fadeaway Jump Shot                   4\n",
       "Hook Shot                        Hook Shot                            2\n",
       "Driving Hook Shot                Driving Hook Shot                    2\n",
       "Jump Bank Shot                   Jump Bank Shot                       1\n",
       "Turnaround Hook Shot             Turnaround Hook Shot                 1\n",
       "Running Reverse Layup Shot       Running Reverse Layup Shot           1\n",
       "Driving Dunk Shot                Driving Dunk Shot                    1\n",
       "Name: ACTION_TYPE, dtype: int64"
      ]
     },
     "execution_count": 34,
     "metadata": {},
     "output_type": "execute_result"
    }
   ],
   "source": [
    "# plot the top 10 shot choice\n",
    "curry2.groupby('ACTION_TYPE')['ACTION_TYPE'].value_counts().sort_values(ascending=False)"
   ]
  },
  {
   "cell_type": "code",
   "execution_count": 35,
   "metadata": {},
   "outputs": [
    {
     "data": {
      "text/plain": [
       "Text(0.5, 1.0, '2nd Half Curry Shot Choice')"
      ]
     },
     "execution_count": 35,
     "metadata": {},
     "output_type": "execute_result"
    },
    {
     "data": {
      "image/png": "[encoded data removed]",
      "text/plain": [
       "<Figure size 360x360 with 1 Axes>"
      ]
     },
     "metadata": {
      "needs_background": "light"
     },
     "output_type": "display_data"
    }
   ],
   "source": [
    "# plot the top 10 shot choice\n",
    "curry2_plot = sns.catplot(y=\"ACTION_TYPE\", \n",
    "                          kind=\"count\", \n",
    "                          palette=\"ch:.25\",\n",
    "                          order=curry2.ACTION_TYPE.value_counts().iloc[:10].index,\n",
    "                          data=curry2);\n",
    "curry2_plot.set(xlabel='', ylabel='')\n",
    "plt.title('2nd Half Curry Shot Choice')"
   ]
  },
  {
   "cell_type": "code",
   "execution_count": 36,
   "metadata": {},
   "outputs": [
    {
     "data": {
      "text/html": [
       "<div>\n",
       "<style scoped>\n",
       "    .dataframe tbody tr th:only-of-type {\n",
       "        vertical-align: middle;\n",
       "    }\n",
       "\n",
       "    .dataframe tbody tr th {\n",
       "        vertical-align: top;\n",
       "    }\n",
       "\n",
       "    .dataframe thead th {\n",
       "        text-align: right;\n",
       "    }\n",
       "</style>\n",
       "<table border=\"1\" class=\"dataframe\">\n",
       "  <thead>\n",
       "    <tr style=\"text-align: right;\">\n",
       "      <th>ACTION_TYPE</th>\n",
       "      <th>Step Back Jump shot</th>\n",
       "      <th>Driving Layup Shot</th>\n",
       "      <th>Jump Shot</th>\n",
       "      <th>Driving Floating Jump Shot</th>\n",
       "      <th>Pullup Jump shot</th>\n",
       "      <th>Driving Finger Roll Layup Shot</th>\n",
       "      <th>Layup Shot</th>\n",
       "      <th>Running Layup Shot</th>\n",
       "      <th>Driving Floating Bank Jump Shot</th>\n",
       "      <th>Floating Jump shot</th>\n",
       "    </tr>\n",
       "    <tr>\n",
       "      <th>GAME_ID</th>\n",
       "      <th></th>\n",
       "      <th></th>\n",
       "      <th></th>\n",
       "      <th></th>\n",
       "      <th></th>\n",
       "      <th></th>\n",
       "      <th></th>\n",
       "      <th></th>\n",
       "      <th></th>\n",
       "      <th></th>\n",
       "    </tr>\n",
       "  </thead>\n",
       "  <tbody>\n",
       "    <tr>\n",
       "      <th>0021800009</th>\n",
       "      <td>3.0</td>\n",
       "      <td>2.0</td>\n",
       "      <td>0.0</td>\n",
       "      <td>1.0</td>\n",
       "      <td>0.0</td>\n",
       "      <td>2.0</td>\n",
       "      <td>0.0</td>\n",
       "      <td>0.0</td>\n",
       "      <td>0.0</td>\n",
       "      <td>0.0</td>\n",
       "    </tr>\n",
       "    <tr>\n",
       "      <th>0021800035</th>\n",
       "      <td>3.0</td>\n",
       "      <td>1.0</td>\n",
       "      <td>3.0</td>\n",
       "      <td>0.0</td>\n",
       "      <td>1.0</td>\n",
       "      <td>1.0</td>\n",
       "      <td>2.0</td>\n",
       "      <td>0.0</td>\n",
       "      <td>0.0</td>\n",
       "      <td>0.0</td>\n",
       "    </tr>\n",
       "    <tr>\n",
       "      <th>0021800039</th>\n",
       "      <td>6.0</td>\n",
       "      <td>0.0</td>\n",
       "      <td>3.0</td>\n",
       "      <td>0.0</td>\n",
       "      <td>0.0</td>\n",
       "      <td>0.0</td>\n",
       "      <td>1.0</td>\n",
       "      <td>1.0</td>\n",
       "      <td>0.0</td>\n",
       "      <td>1.0</td>\n",
       "    </tr>\n",
       "    <tr>\n",
       "      <th>0021800057</th>\n",
       "      <td>4.0</td>\n",
       "      <td>2.0</td>\n",
       "      <td>0.0</td>\n",
       "      <td>1.0</td>\n",
       "      <td>0.0</td>\n",
       "      <td>2.0</td>\n",
       "      <td>0.0</td>\n",
       "      <td>0.0</td>\n",
       "      <td>0.0</td>\n",
       "      <td>0.0</td>\n",
       "    </tr>\n",
       "    <tr>\n",
       "      <th>0021800129</th>\n",
       "      <td>3.0</td>\n",
       "      <td>1.0</td>\n",
       "      <td>2.0</td>\n",
       "      <td>0.0</td>\n",
       "      <td>0.0</td>\n",
       "      <td>0.0</td>\n",
       "      <td>1.0</td>\n",
       "      <td>0.0</td>\n",
       "      <td>0.0</td>\n",
       "      <td>0.0</td>\n",
       "    </tr>\n",
       "  </tbody>\n",
       "</table>\n",
       "</div>"
      ],
      "text/plain": [
       "ACTION_TYPE  Step Back Jump shot  Driving Layup Shot  Jump Shot  \\\n",
       "GAME_ID                                                           \n",
       "0021800009                   3.0                 2.0        0.0   \n",
       "0021800035                   3.0                 1.0        3.0   \n",
       "0021800039                   6.0                 0.0        3.0   \n",
       "0021800057                   4.0                 2.0        0.0   \n",
       "0021800129                   3.0                 1.0        2.0   \n",
       "\n",
       "ACTION_TYPE  Driving Floating Jump Shot  Pullup Jump shot  \\\n",
       "GAME_ID                                                     \n",
       "0021800009                          1.0               0.0   \n",
       "0021800035                          0.0               1.0   \n",
       "0021800039                          0.0               0.0   \n",
       "0021800057                          1.0               0.0   \n",
       "0021800129                          0.0               0.0   \n",
       "\n",
       "ACTION_TYPE  Driving Finger Roll Layup Shot  Layup Shot  Running Layup Shot  \\\n",
       "GAME_ID                                                                       \n",
       "0021800009                              2.0         0.0                 0.0   \n",
       "0021800035                              1.0         2.0                 0.0   \n",
       "0021800039                              0.0         1.0                 1.0   \n",
       "0021800057                              2.0         0.0                 0.0   \n",
       "0021800129                              0.0         1.0                 0.0   \n",
       "\n",
       "ACTION_TYPE  Driving Floating Bank Jump Shot  Floating Jump shot  \n",
       "GAME_ID                                                           \n",
       "0021800009                               0.0                 0.0  \n",
       "0021800035                               0.0                 0.0  \n",
       "0021800039                               0.0                 1.0  \n",
       "0021800057                               0.0                 0.0  \n",
       "0021800129                               0.0                 0.0  "
      ]
     },
     "execution_count": 36,
     "metadata": {},
     "output_type": "execute_result"
    }
   ],
   "source": [
    "# Harden top 10 shot choices for 1st half by game:\n",
    "harden1_shots = harden1.groupby(['GAME_ID', 'ACTION_TYPE']).size().unstack().fillna(0)\n",
    "harden1_top10 = harden1_shots[list(harden1.ACTION_TYPE.value_counts().iloc[:10].index)]\n",
    "harden1_top10.head()"
   ]
  },
  {
   "cell_type": "code",
   "execution_count": 37,
   "metadata": {},
   "outputs": [
    {
     "data": {
      "text/html": [
       "<div>\n",
       "<style scoped>\n",
       "    .dataframe tbody tr th:only-of-type {\n",
       "        vertical-align: middle;\n",
       "    }\n",
       "\n",
       "    .dataframe tbody tr th {\n",
       "        vertical-align: top;\n",
       "    }\n",
       "\n",
       "    .dataframe thead th {\n",
       "        text-align: right;\n",
       "    }\n",
       "</style>\n",
       "<table border=\"1\" class=\"dataframe\">\n",
       "  <thead>\n",
       "    <tr style=\"text-align: right;\">\n",
       "      <th>ACTION_TYPE</th>\n",
       "      <th>Step Back Jump shot</th>\n",
       "      <th>Jump Shot</th>\n",
       "      <th>Driving Layup Shot</th>\n",
       "      <th>Driving Floating Jump Shot</th>\n",
       "      <th>Pullup Jump shot</th>\n",
       "      <th>Driving Finger Roll Layup Shot</th>\n",
       "      <th>Layup Shot</th>\n",
       "      <th>Floating Jump shot</th>\n",
       "      <th>Running Layup Shot</th>\n",
       "      <th>Driving Floating Bank Jump Shot</th>\n",
       "    </tr>\n",
       "    <tr>\n",
       "      <th>GAME_ID</th>\n",
       "      <th></th>\n",
       "      <th></th>\n",
       "      <th></th>\n",
       "      <th></th>\n",
       "      <th></th>\n",
       "      <th></th>\n",
       "      <th></th>\n",
       "      <th></th>\n",
       "      <th></th>\n",
       "      <th></th>\n",
       "    </tr>\n",
       "  </thead>\n",
       "  <tbody>\n",
       "    <tr>\n",
       "      <th>0021800009</th>\n",
       "      <td>2.0</td>\n",
       "      <td>2.0</td>\n",
       "      <td>1.0</td>\n",
       "      <td>0.0</td>\n",
       "      <td>1.0</td>\n",
       "      <td>0.0</td>\n",
       "      <td>0.0</td>\n",
       "      <td>0.0</td>\n",
       "      <td>1.0</td>\n",
       "      <td>0.0</td>\n",
       "    </tr>\n",
       "    <tr>\n",
       "      <th>0021800035</th>\n",
       "      <td>3.0</td>\n",
       "      <td>0.0</td>\n",
       "      <td>3.0</td>\n",
       "      <td>0.0</td>\n",
       "      <td>0.0</td>\n",
       "      <td>0.0</td>\n",
       "      <td>0.0</td>\n",
       "      <td>0.0</td>\n",
       "      <td>0.0</td>\n",
       "      <td>0.0</td>\n",
       "    </tr>\n",
       "    <tr>\n",
       "      <th>0021800039</th>\n",
       "      <td>1.0</td>\n",
       "      <td>4.0</td>\n",
       "      <td>2.0</td>\n",
       "      <td>0.0</td>\n",
       "      <td>0.0</td>\n",
       "      <td>0.0</td>\n",
       "      <td>2.0</td>\n",
       "      <td>2.0</td>\n",
       "      <td>1.0</td>\n",
       "      <td>0.0</td>\n",
       "    </tr>\n",
       "    <tr>\n",
       "      <th>0021800057</th>\n",
       "      <td>0.0</td>\n",
       "      <td>1.0</td>\n",
       "      <td>1.0</td>\n",
       "      <td>2.0</td>\n",
       "      <td>1.0</td>\n",
       "      <td>0.0</td>\n",
       "      <td>0.0</td>\n",
       "      <td>1.0</td>\n",
       "      <td>0.0</td>\n",
       "      <td>0.0</td>\n",
       "    </tr>\n",
       "    <tr>\n",
       "      <th>0021800129</th>\n",
       "      <td>4.0</td>\n",
       "      <td>4.0</td>\n",
       "      <td>0.0</td>\n",
       "      <td>0.0</td>\n",
       "      <td>0.0</td>\n",
       "      <td>0.0</td>\n",
       "      <td>2.0</td>\n",
       "      <td>0.0</td>\n",
       "      <td>0.0</td>\n",
       "      <td>0.0</td>\n",
       "    </tr>\n",
       "  </tbody>\n",
       "</table>\n",
       "</div>"
      ],
      "text/plain": [
       "ACTION_TYPE  Step Back Jump shot  Jump Shot  Driving Layup Shot  \\\n",
       "GAME_ID                                                           \n",
       "0021800009                   2.0        2.0                 1.0   \n",
       "0021800035                   3.0        0.0                 3.0   \n",
       "0021800039                   1.0        4.0                 2.0   \n",
       "0021800057                   0.0        1.0                 1.0   \n",
       "0021800129                   4.0        4.0                 0.0   \n",
       "\n",
       "ACTION_TYPE  Driving Floating Jump Shot  Pullup Jump shot  \\\n",
       "GAME_ID                                                     \n",
       "0021800009                          0.0               1.0   \n",
       "0021800035                          0.0               0.0   \n",
       "0021800039                          0.0               0.0   \n",
       "0021800057                          2.0               1.0   \n",
       "0021800129                          0.0               0.0   \n",
       "\n",
       "ACTION_TYPE  Driving Finger Roll Layup Shot  Layup Shot  Floating Jump shot  \\\n",
       "GAME_ID                                                                       \n",
       "0021800009                              0.0         0.0                 0.0   \n",
       "0021800035                              0.0         0.0                 0.0   \n",
       "0021800039                              0.0         2.0                 2.0   \n",
       "0021800057                              0.0         0.0                 1.0   \n",
       "0021800129                              0.0         2.0                 0.0   \n",
       "\n",
       "ACTION_TYPE  Running Layup Shot  Driving Floating Bank Jump Shot  \n",
       "GAME_ID                                                           \n",
       "0021800009                  1.0                              0.0  \n",
       "0021800035                  0.0                              0.0  \n",
       "0021800039                  1.0                              0.0  \n",
       "0021800057                  0.0                              0.0  \n",
       "0021800129                  0.0                              0.0  "
      ]
     },
     "execution_count": 37,
     "metadata": {},
     "output_type": "execute_result"
    }
   ],
   "source": [
    "# Harden top 10 shot choices for 2nd half by game:\n",
    "harden2_shots = harden2.groupby(['GAME_ID', 'ACTION_TYPE']).size().unstack().fillna(0)\n",
    "harden2_top10 = harden2_shots[list(harden2.ACTION_TYPE.value_counts().iloc[:10].index)]\n",
    "harden2_top10.head()"
   ]
  },
  {
   "cell_type": "markdown",
   "metadata": {},
   "source": [
    "### Paired Sample t-test for HARDEN 1st vs. 2nd half shot choice by shot"
   ]
  },
  {
   "cell_type": "code",
   "execution_count": 38,
   "metadata": {},
   "outputs": [
    {
     "data": {
      "text/plain": [
       "[(0.23610007040075878, 0.8139819119383211),\n",
       " (0.8704243386184987, 0.3867740891470389),\n",
       " (1.922988506067022, 0.058179007066145365),\n",
       " (0.2730865635406486, 0.7855177730739131),\n",
       " (-1.073265453733239, 0.2865040899269229),\n",
       " (1.306546874567429, 0.19525572179917627),\n",
       " (1.1110665767071528, 0.26999705302999455),\n",
       " (1.6509584237085317, 0.10282021780030881),\n",
       " (1.096870548424015, 0.27611650945894084),\n",
       " (1.0431612605388376, 0.30013769096666093)]"
      ]
     },
     "execution_count": 38,
     "metadata": {},
     "output_type": "execute_result"
    }
   ],
   "source": [
    "# Paired Sample t-test for Curry 1st vs. 2nd half shot choice\n",
    "harden_shot_choice = []\n",
    "for i in range(0,10):\n",
    "    t,p = stats.ttest_rel(harden1_top10.iloc[:,i:i+1], harden2_top10.iloc[:,i:i+1])\n",
    "    harden_shot_choice.append((t[0], p[0]))\n",
    "harden_shot_choice"
   ]
  },
  {
   "cell_type": "markdown",
   "metadata": {},
   "source": [
    "#### WRITE SOMETHING ABOUT TESTS"
   ]
  },
  {
   "cell_type": "code",
   "execution_count": 39,
   "metadata": {},
   "outputs": [
    {
     "data": {
      "text/plain": [
       "ACTION_TYPE                         ACTION_TYPE                       \n",
       "Step Back Jump shot                 Step Back Jump shot                   294\n",
       "Driving Layup Shot                  Driving Layup Shot                    203\n",
       "Jump Shot                           Jump Shot                             159\n",
       "Driving Floating Jump Shot          Driving Floating Jump Shot             86\n",
       "Pullup Jump shot                    Pullup Jump shot                       67\n",
       "Driving Finger Roll Layup Shot      Driving Finger Roll Layup Shot         47\n",
       "Layup Shot                          Layup Shot                             33\n",
       "Running Layup Shot                  Running Layup Shot                     24\n",
       "Driving Floating Bank Jump Shot     Driving Floating Bank Jump Shot        17\n",
       "Floating Jump shot                  Floating Jump shot                     15\n",
       "Driving Reverse Layup Shot          Driving Reverse Layup Shot              7\n",
       "Cutting Layup Shot                  Cutting Layup Shot                      6\n",
       "Driving Dunk Shot                   Driving Dunk Shot                       6\n",
       "Fadeaway Jump Shot                  Fadeaway Jump Shot                      5\n",
       "Running Dunk Shot                   Running Dunk Shot                       5\n",
       "Turnaround Fadeaway shot            Turnaround Fadeaway shot                4\n",
       "Running Finger Roll Layup Shot      Running Finger Roll Layup Shot          4\n",
       "Reverse Layup Shot                  Reverse Layup Shot                      3\n",
       "Driving Hook Shot                   Driving Hook Shot                       2\n",
       "Turnaround Jump Shot                Turnaround Jump Shot                    2\n",
       "Tip Layup Shot                      Tip Layup Shot                          2\n",
       "Cutting Dunk Shot                   Cutting Dunk Shot                       2\n",
       "Finger Roll Layup Shot              Finger Roll Layup Shot                  1\n",
       "Hook Shot                           Hook Shot                               1\n",
       "Running Jump Shot                   Running Jump Shot                       1\n",
       "Running Pull-Up Jump Shot           Running Pull-Up Jump Shot               1\n",
       "Step Back Bank Jump Shot            Step Back Bank Jump Shot                1\n",
       "Turnaround Fadeaway Bank Jump Shot  Turnaround Fadeaway Bank Jump Shot      1\n",
       "Cutting Finger Roll Layup Shot      Cutting Finger Roll Layup Shot          1\n",
       "Name: ACTION_TYPE, dtype: int64"
      ]
     },
     "execution_count": 39,
     "metadata": {},
     "output_type": "execute_result"
    }
   ],
   "source": [
    "# plot the top 10 shot choice\n",
    "harden1.groupby('ACTION_TYPE')['ACTION_TYPE'].value_counts().sort_values(ascending=False)"
   ]
  },
  {
   "cell_type": "code",
   "execution_count": 40,
   "metadata": {},
   "outputs": [
    {
     "data": {
      "text/plain": [
       "Text(0.5, 1.0, '1st Half Harden Shot Choice')"
      ]
     },
     "execution_count": 40,
     "metadata": {},
     "output_type": "execute_result"
    },
    {
     "data": {
      "image/png": "[encoded data removed]",
      "text/plain": [
       "<Figure size 360x360 with 1 Axes>"
      ]
     },
     "metadata": {
      "needs_background": "light"
     },
     "output_type": "display_data"
    }
   ],
   "source": [
    "# plot the top 10 shot choice\n",
    "harden1_plot = sns.catplot(y=\"ACTION_TYPE\", \n",
    "                          kind=\"count\", \n",
    "                          palette=\"ch:.25\",\n",
    "                          order=harden1.ACTION_TYPE.value_counts().iloc[:10].index,\n",
    "                          data=harden1);\n",
    "harden1_plot.set(xlabel='', ylabel='')\n",
    "plt.title('1st Half Harden Shot Choice')"
   ]
  },
  {
   "cell_type": "code",
   "execution_count": 41,
   "metadata": {},
   "outputs": [
    {
     "data": {
      "text/plain": [
       "ACTION_TYPE                         ACTION_TYPE                       \n",
       "Step Back Jump shot                 Step Back Jump shot                   288\n",
       "Jump Shot                           Jump Shot                             184\n",
       "Driving Layup Shot                  Driving Layup Shot                    121\n",
       "Driving Floating Jump Shot          Driving Floating Jump Shot             82\n",
       "Pullup Jump shot                    Pullup Jump shot                       80\n",
       "Driving Finger Roll Layup Shot      Driving Finger Roll Layup Shot         32\n",
       "Layup Shot                          Layup Shot                             25\n",
       "Floating Jump shot                  Floating Jump shot                     12\n",
       "Running Layup Shot                  Running Layup Shot                     11\n",
       "Driving Floating Bank Jump Shot     Driving Floating Bank Jump Shot        10\n",
       "Fadeaway Jump Shot                  Fadeaway Jump Shot                      8\n",
       "Driving Dunk Shot                   Driving Dunk Shot                       5\n",
       "Turnaround Fadeaway shot            Turnaround Fadeaway shot                3\n",
       "Cutting Layup Shot                  Cutting Layup Shot                      3\n",
       "Cutting Dunk Shot                   Cutting Dunk Shot                       3\n",
       "Running Finger Roll Layup Shot      Running Finger Roll Layup Shot          3\n",
       "Jump Bank Shot                      Jump Bank Shot                          2\n",
       "Hook Shot                           Hook Shot                               2\n",
       "Driving Reverse Layup Shot          Driving Reverse Layup Shot              2\n",
       "Driving Hook Shot                   Driving Hook Shot                       2\n",
       "Running Jump Shot                   Running Jump Shot                       2\n",
       "Running Pull-Up Jump Shot           Running Pull-Up Jump Shot               2\n",
       "Putback Layup Shot                  Putback Layup Shot                      1\n",
       "Reverse Layup Shot                  Reverse Layup Shot                      1\n",
       "Running Dunk Shot                   Running Dunk Shot                       1\n",
       "Step Back Bank Jump Shot            Step Back Bank Jump Shot                1\n",
       "Tip Layup Shot                      Tip Layup Shot                          1\n",
       "Turnaround Fadeaway Bank Jump Shot  Turnaround Fadeaway Bank Jump Shot      1\n",
       "Turnaround Jump Shot                Turnaround Jump Shot                    1\n",
       "Name: ACTION_TYPE, dtype: int64"
      ]
     },
     "execution_count": 41,
     "metadata": {},
     "output_type": "execute_result"
    }
   ],
   "source": [
    "# plot the top 10 shot choice\n",
    "harden2.groupby('ACTION_TYPE')['ACTION_TYPE'].value_counts().sort_values(ascending=False)"
   ]
  },
  {
   "cell_type": "code",
   "execution_count": 42,
   "metadata": {},
   "outputs": [
    {
     "data": {
      "text/plain": [
       "Text(0.5, 1.0, '2nd Half Harden Shot Choice')"
      ]
     },
     "execution_count": 42,
     "metadata": {},
     "output_type": "execute_result"
    },
    {
     "data": {
      "image/png": "[encoded data removed]",
      "text/plain": [
       "<Figure size 360x360 with 1 Axes>"
      ]
     },
     "metadata": {
      "needs_background": "light"
     },
     "output_type": "display_data"
    }
   ],
   "source": [
    "# plot the top 10 shot choice\n",
    "harden2_plot = sns.catplot(y=\"ACTION_TYPE\", \n",
    "                          kind=\"count\", \n",
    "                          palette=\"ch:.25\",\n",
    "                          order=harden2.ACTION_TYPE.value_counts().iloc[:10].index,\n",
    "                          data=harden2);\n",
    "harden2_plot.set(xlabel='', ylabel='')\n",
    "plt.title('2nd Half Harden Shot Choice')"
   ]
  }
 ],
 "metadata": {
  "colab": {
   "collapsed_sections": [],
   "name": "PSTAT134 project.ipynb",
   "provenance": [],
   "version": "0.3.2"
  },
  "kernelspec": {
   "display_name": "Python 3",
   "language": "python",
   "name": "python3"
  },
  "language_info": {
   "codemirror_mode": {
    "name": "ipython",
    "version": 3
   },
   "file_extension": ".py",
   "mimetype": "text/x-python",
   "name": "python",
   "nbconvert_exporter": "python",
   "pygments_lexer": "ipython3",
   "version": "3.6.8"
  }
 },
 "nbformat": 4,
 "nbformat_minor": 1
}
